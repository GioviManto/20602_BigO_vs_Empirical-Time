{
 "cells": [
  {
   "cell_type": "markdown",
   "metadata": {},
   "source": [
    "# 1.How big of an array can I sort using merge-sort within one minute?"
   ]
  },
  {
   "cell_type": "markdown",
   "metadata": {},
   "source": [
    "Merge sort runs in O(n log n) time because at each “level” of recursion it does an O(n) merge, and there are log n levels from repeatedly splitting the array in half. \n",
    "\n",
    "A rough estimate of speed is that a program written in C or C++ would perform 10^8  high level operations such as addition, multiplication, comparison, reading memory, etc. in a second. Python, being an interpreted language, would be about 10 times slower (10^7).\n",
    "\n",
    "Therefore, if I run this code on Python, in one minute I am able to do 10^7 * 60 high level operations, i.e 6 * 10^8 , while in C or C++ I can do 6* 10^9 high level operations.\n",
    "\n",
    "So the equation to solve for Python is roughly n * log2(n)  = 6 * 10^8. This equation cannot be solved algebraically in a simple closed form, but we can approximate the solution numerically to n = 2.44 * 10 ^ 7 and so for C or C++ it is n = 2.44 * 10^8.\n",
    "\n",
    "These are very rough ballpark figures and actual performance can vary significantly depending on hardware, compiler optimizations, memory speeds, and other implementation details.\n"
   ]
  },
  {
   "cell_type": "markdown",
   "metadata": {},
   "source": [
    "## Python"
   ]
  },
  {
   "cell_type": "code",
   "execution_count": null,
   "metadata": {},
   "outputs": [],
   "source": [
    "import random\n",
    "import time\n",
    "import sys\n",
    "\n",
    "# --- MERGE SORT IMPLEMENTATION ---\n",
    "def merge_sort(arr):\n",
    "    \"\"\"\n",
    "    Recursively splits and merges the array.\n",
    "    \"\"\"\n",
    "    if len(arr) > 1:\n",
    "        mid = len(arr) // 2\n",
    "        left_half = arr[:mid]\n",
    "        right_half = arr[mid:]\n",
    "\n",
    "        merge_sort(left_half)\n",
    "        merge_sort(right_half)\n",
    "\n",
    "        i = j = k = 0\n",
    "        # Merge the two halves\n",
    "        while i < len(left_half) and j < len(right_half):\n",
    "            if left_half[i] < right_half[j]:\n",
    "                arr[k] = left_half[i]\n",
    "                i += 1\n",
    "            else:\n",
    "                arr[k] = right_half[j]\n",
    "                j += 1\n",
    "            k += 1\n",
    "\n",
    "        # Copy the remaining elements of left_half, if any\n",
    "        while i < len(left_half):\n",
    "            arr[k] = left_half[i]\n",
    "            i += 1\n",
    "            k += 1\n",
    "\n",
    "        # Copy the remaining elements of right_half, if any\n",
    "        while j < len(right_half):\n",
    "            arr[k] = right_half[j]\n",
    "            j += 1\n",
    "            k += 1\n",
    "\n",
    "def main():\n",
    "    \"\"\"\n",
    "    Usage: python merge_sort.py <n>\n",
    "      - n is the size of the array to sort. Default = 1e6 (1 million).\n",
    "    \"\"\"\n",
    "    if len(sys.argv) > 1:\n",
    "        n = int(sys.argv[1])\n",
    "    else:\n",
    "        n = 10**6  # Default size if no argument is given\n",
    "\n",
    "    print(f\"Generating array of size {n} ...\")\n",
    "    arr = [random.randint(0, 10**9) for _ in range(n)]\n",
    "\n",
    "    print(\"Starting merge sort...\")\n",
    "    start_time = time.time()\n",
    "    merge_sort(arr)\n",
    "    end_time = time.time()\n",
    "\n",
    "    print(f\"Time taken to sort {n} elements: {end_time - start_time:.4f} seconds\")\n",
    "\n",
    "    # Optional: check if array is sorted\n",
    "    # (This can be expensive to do for large n, so you may remove this check.)\n",
    "    assert all(arr[i] <= arr[i+1] for i in range(n-1)), \"Array is not sorted!\"\n",
    "\n",
    "if __name__ == \"__main__\":\n",
    "    main()\n"
   ]
  },
  {
   "cell_type": "markdown",
   "metadata": {},
   "source": [
    "python 2-sem/CS/Homework/Merge_sort.py 100000\n",
    "\n",
    "Generating array of size 100000 ...\n",
    "\n",
    "Starting merge sort...\n",
    "\n",
    "Time taken to sort 100000 elements: 0.3936 seconds"
   ]
  },
  {
   "cell_type": "markdown",
   "metadata": {},
   "source": [
    "python 2-sem/CS/Homework/Merge_sort.py 1000000\n",
    "\n",
    "Generating array of size 1000000 ...\n",
    "\n",
    "Starting merge sort...\n",
    "\n",
    "Time taken to sort 1000000 elements: 5.0034 seconds"
   ]
  },
  {
   "cell_type": "markdown",
   "metadata": {},
   "source": [
    "### Let's try our theoretical limit 2.44 * 10^7"
   ]
  },
  {
   "cell_type": "markdown",
   "metadata": {},
   "source": [
    "python 2-sem/CS/Homework/Merge_sort.py 244000000\n",
    "\n"
   ]
  },
  {
   "cell_type": "markdown",
   "metadata": {},
   "source": [
    "It was taking quite a long time and to see that the code was actually running I have moved the terminal in a new window and I have run \"top\" in the new terminal to investigate my system status:\n",
    "\n",
    "Processes: 381 total, 4 running, 377 sleeping, 3224 threads                                                    10:17:04\n",
    "\n",
    "Load Avg: 2.87, 2.40, 2.47  CPU usage: 31.12% user, 7.72% sys, 61.15% idle --> My CPU is not maxed out. This confirms that the slowdown is due to memory swapping, not CPU constraints.\n",
    "\n",
    "\n",
    "SharedLibs: 197M resident, 44M data, 13M linkedit. MemRegions: 877543 total, 1417M resident, 74M private, \n",
    "626M shared.\n",
    "\n",
    "PhysMem: 7555M used (1338M wired, 3751M compressor), 75M unused.--> I only have 75MB of free RAM, which is not enough to handle a huge 244M-element array.\n",
    "My system is relying on swap memory, which is extremely slow compared to RAM.\n",
    "\n",
    "VM: 228T vsize, 4729M framework vsize, 2254854(258) swapins, 2953596(336) swapouts.--> Swap-ins and swap-outs indicate that my Mac is moving data between RAM and disk, which slows down my program significantly.\n",
    "\n",
    "Networks: packets: 2902738/2780M in, 1361836/798M out. Disks: 14117688/269G read, 5768917/113G written."
   ]
  },
  {
   "cell_type": "markdown",
   "metadata": {},
   "source": [
    "Let's try to be me more conservative"
   ]
  },
  {
   "cell_type": "markdown",
   "metadata": {},
   "source": [
    "python 2-sem/CS/Homework/Merge_sort.py 1500000\n",
    "\n",
    "Generating array of size 1500000 ...\n",
    "\n",
    "Starting merge sort...\n",
    "\n",
    "Time taken to sort 1500000 elements: 11.7035 seconds"
   ]
  },
  {
   "cell_type": "markdown",
   "metadata": {},
   "source": [
    "## Python on Google Colab"
   ]
  },
  {
   "cell_type": "markdown",
   "metadata": {},
   "source": [
    "!python3 /content/Merge_sort.py 100000\n",
    "\n",
    "Generating array of size 100000 ...\n",
    "\n",
    "Starting merge sort...\n",
    "\n",
    "Time taken to sort 100000 elements: 0.3144 seconds"
   ]
  },
  {
   "cell_type": "markdown",
   "metadata": {},
   "source": [
    "!python3 /content/Merge_sort.py 1000000\n",
    "\n",
    "Generating array of size 1000000 ...\n",
    "\n",
    "Starting merge sort...\n",
    "\n",
    "Time taken to sort 1000000 elements: 4.4232 seconds"
   ]
  },
  {
   "cell_type": "markdown",
   "metadata": {},
   "source": [
    "### Let's try our theoretical limit 2.44 * 10^7"
   ]
  },
  {
   "cell_type": "markdown",
   "metadata": {},
   "source": [
    "!python3 /content/Merge_sort.py 24400000\n",
    "\n",
    "Generating array of size 24400000 ...\n",
    "\n",
    "Starting merge sort...\n",
    "\n",
    "Time taken to sort 24400000 elements: 173.0057 seconds"
   ]
  },
  {
   "cell_type": "markdown",
   "metadata": {},
   "source": [
    "!python3 /content/Merge_sort.py 15000000\n",
    "\n",
    "Generating array of size 15000000 ...\n",
    "\n",
    "Starting merge sort...\n",
    "\n",
    "Time taken to sort 15000000 elements: 100.2316 seconds"
   ]
  },
  {
   "cell_type": "markdown",
   "metadata": {},
   "source": [
    "!python3 /content/Merge_sort.py 12500000\n",
    "\n",
    "Generating array of size 12500000 ...\n",
    "\n",
    "Starting merge sort...\n",
    "\n",
    "Time taken to sort 12500000 elements: 83.0785 seconds"
   ]
  },
  {
   "cell_type": "markdown",
   "metadata": {},
   "source": [
    "!python3 /content/Merge_sort.py 11000000\n",
    "\n",
    "Generating array of size 11000000 ...\n",
    "\n",
    "Starting merge sort...\n",
    "\n",
    "Time taken to sort 11000000 elements: 73.2269 seconds"
   ]
  },
  {
   "cell_type": "markdown",
   "metadata": {},
   "source": [
    "# This is very close!"
   ]
  },
  {
   "cell_type": "markdown",
   "metadata": {},
   "source": [
    "!python3 /content/Merge_sort.py 10000000\n",
    "\n",
    "Generating array of size 10000000 ...\n",
    "\n",
    "Starting merge sort...\n",
    "\n",
    "## Time taken to sort 10000000 elements: 65.3124 seconds"
   ]
  },
  {
   "cell_type": "markdown",
   "metadata": {},
   "source": [
    "## C++"
   ]
  },
  {
   "cell_type": "markdown",
   "metadata": {},
   "source": [
    "```cpp\n",
    "#include <iostream>\n",
    "#include <vector>\n",
    "#include <cstdlib>\n",
    "#include <ctime>\n",
    "#include <algorithm>  // For std::swap, if needed\n",
    "#include <chrono>\n",
    "\n",
    "using namespace std;\n",
    "\n",
    "// --- MERGE SORT IMPLEMENTATION ---\n",
    "void merge(vector<int> &arr, int left, int mid, int right) {\n",
    "    int n1 = mid - left + 1;\n",
    "    int n2 = right - mid;\n",
    "\n",
    "    vector<int> L(n1), R(n2);\n",
    "\n",
    "    for(int i = 0; i < n1; i++) {\n",
    "        L[i] = arr[left + i];\n",
    "    }\n",
    "    for(int j = 0; j < n2; j++) {\n",
    "        R[j] = arr[mid + 1 + j];\n",
    "    }\n",
    "\n",
    "    int i = 0, j = 0, k = left;\n",
    "    while(i < n1 && j < n2) {\n",
    "        if(L[i] <= R[j]) {\n",
    "            arr[k++] = L[i++];\n",
    "        } else {\n",
    "            arr[k++] = R[j++];\n",
    "        }\n",
    "    }\n",
    "    while(i < n1) {\n",
    "        arr[k++] = L[i++];\n",
    "    }\n",
    "    while(j < n2) {\n",
    "        arr[k++] = R[j++];\n",
    "    }\n",
    "}\n",
    "\n",
    "void mergeSort(vector<int> &arr, int left, int right) {\n",
    "    if(left < right) {\n",
    "        int mid = left + (right - left) / 2;\n",
    "        mergeSort(arr, left, mid);\n",
    "        mergeSort(arr, mid + 1, right);\n",
    "        merge(arr, left, mid, right);\n",
    "    }\n",
    "}\n",
    "\n",
    "int main(int argc, char** argv) {\n",
    "    // Default array size is 1e6 if no argument is provided\n",
    "    long long n = 1000000;\n",
    "    if(argc > 1) {\n",
    "        n = atoll(argv[1]);\n",
    "    }\n",
    "\n",
    "    cout << \"Generating array of size \" << n << \" ...\" << endl;\n",
    "    srand((unsigned) time(NULL));\n",
    "    vector<int> arr(n);\n",
    "    for(long long i = 0; i < n; i++) {\n",
    "        arr[i] = rand(); // random int\n",
    "    }\n",
    "\n",
    "    cout << \"Starting merge sort...\" << endl;\n",
    "    auto start = chrono::high_resolution_clock::now();\n",
    "    mergeSort(arr, 0, n - 1);\n",
    "    auto end = chrono::high_resolution_clock::now();\n",
    "    chrono::duration<double> diff = end - start;\n",
    "\n",
    "    cout << \"Time taken to sort \" << n << \" elements: \" \n",
    "         << diff.count() << \" seconds\" << endl;\n",
    "\n",
    "    return 0;\n",
    "}\n"
   ]
  },
  {
   "cell_type": "markdown",
   "metadata": {},
   "source": [
    " g++ 2-sem/CS/Homework/merge_sort.cpp -o merge_sort -O2\n",
    "./merge_sort \n",
    "\n",
    "Generating array of size 1000000 ...\n",
    "\n",
    "Starting merge sort...\n",
    "\n",
    "Time taken to sort 1000000 elements: 0.141446 seconds"
   ]
  },
  {
   "cell_type": "markdown",
   "metadata": {},
   "source": [
    "g++ 2-sem/CS/Homework/merge_sort.cpp -o merge_sort -O2\n",
    "./merge_sort 24400000\n",
    "\n",
    "Generating array of size 24400000 ...\n",
    "\n",
    "Starting merge sort...\n",
    "\n",
    "Time taken to sort 24400000 elements: 4.26308 seconds"
   ]
  },
  {
   "cell_type": "markdown",
   "metadata": {},
   "source": [
    "### Let's try our theoretical limit 2.44 * 10^8"
   ]
  },
  {
   "cell_type": "markdown",
   "metadata": {},
   "source": [
    "g++ 2-sem/CS/Homework/merge_sort.cpp -o merge_sort -O2\n",
    "./merge_sort 244000000\n",
    "\n",
    "Generating array of size 244000000 ...\n",
    "\n",
    "Starting merge sort...\n",
    "\n",
    "Time taken to sort 244000000 elements: 49.2603 seconds"
   ]
  },
  {
   "cell_type": "markdown",
   "metadata": {},
   "source": [
    "Ok, we are not far\n",
    "\n",
    "Let's push it a bit"
   ]
  },
  {
   "cell_type": "markdown",
   "metadata": {},
   "source": [
    "g++ 2-sem/CS/Homework/merge_sort.cpp -o merge_sort -O2\n",
    "./merge_sort 300000000\n",
    "\n",
    "Generating array of size 300000000 ...\n",
    "\n",
    "Starting merge sort...\n",
    "\n",
    "Time taken to sort 300000000 elements: 67.4735 seconds"
   ]
  },
  {
   "cell_type": "markdown",
   "metadata": {},
   "source": [
    "Ok, we are very close let's try another one"
   ]
  },
  {
   "cell_type": "markdown",
   "metadata": {},
   "source": [
    "g++ 2-sem/CS/Homework/merge_sort.cpp -o merge_sort -O2\n",
    "./merge_sort 280000000\n",
    "\n",
    "Generating array of size 280000000 ...\n",
    "\n",
    "Starting merge sort...\n",
    "\n",
    "Time taken to sort 280000000 elements: 74.4835 seconds"
   ]
  },
  {
   "cell_type": "markdown",
   "metadata": {},
   "source": [
    "g++ 2-sem/CS/Homework/merge_sort.cpp -o merge_sort -O2\n",
    "./merge_sort\n",
    "\n",
    "Generating array of size 280000000 ...\n",
    "\n",
    "Starting merge sort...\n",
    "\n",
    "Time taken to sort 280000000 elements: 86.0696 seconds"
   ]
  },
  {
   "cell_type": "markdown",
   "metadata": {},
   "source": [
    "## Interpetation"
   ]
  },
  {
   "cell_type": "markdown",
   "metadata": {},
   "source": [
    "The results show a **consistent but non-linear increase in sorting time** as we scale up the input size. L\n",
    "\n",
    "Merge Sort runs in **\\( O(n log n) \\)** time complexity, meaning that sorting time should roughly follow:\n",
    "\n",
    "\\[\n",
    "T(n) =  k * nlogn\n",
    "\\] (approximately)\n",
    "\n",
    "where **\\( k \\)** is some constant dependent on hardware, compiler optimizations, and memory efficiency.\n",
    "\n",
    "### Expected Time Ratios\n",
    "If the sorting time follows \\( O(n log n) \\), then increasing \\( n \\) should increase time **slower than linearly**.\n",
    "\n",
    "| **Input Size \\( n \\)** | **Expected Growth \\( O(n \\log n) \\)** |\n",
    "|----------------|------------------|\n",
    "| \\( 10^6 \\) → \\( 10^7 \\) | **10x increase but ~14x time increase** |\n",
    "| \\( 10^7 \\) → \\( 10^8 \\) | **10x increase but ~12x time increase** |\n",
    "| \\( 10^8 \\) → \\( 3 \\times 10^8 \\) | **3x increase but ~3.5x time increase** |\n",
    "\n",
    "From your data, the **observed** increases in time are **reasonable** given the theoretical prediction.\n",
    "\n",
    "### Results\n",
    "| **Input Size** | **Time Taken (s)** | **Ratio Increase** |\n",
    "|--------------|----------------|----------------|\n",
    "| **1M**  | **0.14s**  | **Baseline** |\n",
    "| **24.4M**  | **4.26s**  | \\( \\approx 30x \\) |\n",
    "| **244M**  | **49.26s**  | \\( \\approx 11.6x \\) |\n",
    "| **280M**  | **74.48s**  | \\( \\approx 1.5x \\) |\n",
    "| **300M**  | **86.07s**  | \\( \\approx 1.16x \\) |\n",
    "\n",
    "### Comparing \n",
    "- **Between `24.4M` and `244M`**:  \n",
    "  - **Theoretical prediction**: Should take about **10-12x longer**  \n",
    "  - **Observed time increase**: **11.6x** ✅ **Matches expectations!**\n",
    "  \n",
    "- **Between `244M` and `280M`**:  \n",
    "  - **Expected:** Increase of **\\( (280 \\log 280) / (244 \\log 244) \\approx 1.4 \\)**  \n",
    "  - **Observed:** \\( \\approx 1.5x \\) ✅ **Slightly higher, but still reasonable**  \n",
    "\n",
    "- **Between `280M` and `300M`**:  \n",
    "  - **Expected:** \\( (300 \\log 300) / (280 \\log 280) \\approx 1.15 \\)  \n",
    "  - **Observed:** \\( \\approx 1.16x \\) ✅ **Very close!**\n",
    "\n",
    "### Conclusion \n",
    "\n",
    "- **Merge Sort behaves as expected in \\( O(n \\log n) \\)**.\n",
    "- **Larger inputs grow sorting time sub-linearly**, meaning time doesn't scale exactly with \\( n \\), but slightly slower.\n",
    "- **Our experiment confirms the theoretical limit is realistic**.\n",
    "\n",
    "### Why Did Sorting `280M` Take Longer the Second Time?\n",
    "Our **first run** of `280M` took **74.48 seconds**, but our **second run** took **86.07 seconds**.\n",
    "\n",
    "**Possible reasons:**\n",
    "1. **Memory Bottleneck**  \n",
    "   - Large arrays take up **significant RAM**.\n",
    "   - If our RAM was already partially filled, the second run may have used **swap memory (slower disk access)**.\n",
    "\n",
    "2. **CPU Caching Effects**  \n",
    "   - If **another background process** (e.g., macOS system tasks) was running, it might have affected performance.\n",
    "   - **Modern CPUs optimize based on past runs**, but if cache gets flushed, the next run might be slower.\n",
    "\n",
    "3. **Thermal Throttling**  \n",
    "   - My **MacBook may have gotten hotter**, reducing CPU frequency.\n",
    "   - Running `top` while sorting confirm this.\n",
    "\n",
    " \n",
    "\n",
    "Remark: Expect that at some point, **RAM will become a bottleneck**. If **sorting time suddenly jumps drastically**, it's a sign that **macOS is swapping memory to disk** (which is very slow)."
   ]
  },
  {
   "cell_type": "markdown",
   "metadata": {},
   "source": [
    "## C++ on Google Colab"
   ]
  },
  {
   "cell_type": "markdown",
   "metadata": {},
   "source": [
    "\n",
    "!g++ /content/merge_sort.cpp -o /content/merge_sort -O2 -std=c++11\n",
    "\n",
    "\n",
    "!/content/merge_sort 1000000\n",
    "\n",
    "Generating array of size 1000000 ...\n",
    "Starting merge sort...\n",
    "Time taken to sort 1000000 elements: 0.225799 seconds"
   ]
  },
  {
   "cell_type": "markdown",
   "metadata": {},
   "source": [
    "!g++ /content/merge_sort.cpp -o /content/merge_sort -O2 -std=c++11\n",
    "\n",
    "\n",
    "!/content/merge_sort 24400000\n",
    "\n",
    "Generating array of size 24400000 ...\n",
    "Starting merge sort...\n",
    "Time taken to sort 24400000 elements: 6.72649 seconds"
   ]
  },
  {
   "cell_type": "markdown",
   "metadata": {},
   "source": [
    "\n",
    "!g++ /content/merge_sort.cpp -o /content/merge_sort -O2 -std=c++11\n",
    "\n",
    "\n",
    "!/content/merge_sort 244000000\n",
    "\n",
    "Generating array of size 244000000 ...\n",
    "Starting merge sort...\n",
    "Time taken to sort 244000000 elements: 70.6277 seconds"
   ]
  },
  {
   "cell_type": "markdown",
   "metadata": {},
   "source": [
    "# This is very close!"
   ]
  },
  {
   "cell_type": "markdown",
   "metadata": {},
   "source": [
    "\n",
    "!g++ /content/merge_sort.cpp -o /content/merge_sort -O2 -std=c++11\n",
    "\n",
    "\n",
    "!/content/merge_sort 200000000\n",
    "\n",
    "\n",
    "\n",
    "Generating array of size 200000000 ...\n",
    "\n",
    "Starting merge sort...\n",
    "\n",
    "## Time taken to sort 200000000 elements: 57.1181 seconds "
   ]
  },
  {
   "cell_type": "markdown",
   "metadata": {},
   "source": [
    "\n",
    "# 2. Gaussian elimination on an n-by-n matrix runs in time O(n^3). How long would it take to perform it on a matrix of size 2000x2000?\n"
   ]
  },
  {
   "cell_type": "markdown",
   "metadata": {},
   "source": [
    "Gaussian elimination takes about O(n^3) time, so for a 2000 by 2000 matrix, that’s roughly 2000^3 = 8 × 10^9 operations. \n",
    "\n",
    "If Python handles about 10^7 operations per second, it would take around 800 seconds, which is over 13 minutes. \n",
    "\n",
    "In C or C++, which can do about 10^8 operations per second, it would take around 80 seconds. \n",
    "\n",
    "These are just rough estimates since actual speed depends on hardware and optimizations, but it gives a good idea of the difference.\n",
    "\n",
    "\n"
   ]
  },
  {
   "cell_type": "markdown",
   "metadata": {},
   "source": [
    "## Python"
   ]
  },
  {
   "cell_type": "markdown",
   "metadata": {},
   "source": [
    "Below is a very naive implementation of Gaussian elimination (without partial pivoting) to solve \n",
    "Ax=b, but here we’ll just focus on the matrix A. This will do roughly O(n^3) operations."
   ]
  },
  {
   "cell_type": "code",
   "execution_count": null,
   "metadata": {},
   "outputs": [],
   "source": [
    "import random\n",
    "import time\n",
    "import sys\n",
    "\n",
    "def gaussian_elimination(A):\n",
    "    \"\"\"\n",
    "    Perform naive Gaussian elimination in-place on matrix A of size n x n.\n",
    "    This code does NOT do partial pivoting and does no checks for singular matrices.\n",
    "    \"\"\"\n",
    "    n = len(A)\n",
    "    for i in range(n):\n",
    "        # Scale the pivot row (row i) so that the pivot element becomes 1\n",
    "        pivot = A[i][i]\n",
    "        for k in range(i, n):\n",
    "            A[i][k] /= pivot\n",
    "\n",
    "        # Eliminate below pivot\n",
    "        for j in range(i+1, n):\n",
    "            factor = A[j][i]\n",
    "            for k in range(i, n):\n",
    "                A[j][k] -= factor * A[i][k]\n",
    "\n",
    "def main():\n",
    "    \"\"\"\n",
    "    Usage: python gaussian_elimination.py <n>\n",
    "      - n is the dimension of the matrix (n x n). Default = 2000.\n",
    "    \"\"\"\n",
    "    if len(sys.argv) > 1:\n",
    "        n = int(sys.argv[1])\n",
    "    else:\n",
    "        n = 2000\n",
    "\n",
    "    # Generate a random n x n matrix (float entries)\n",
    "    print(f\"Generating a {n}x{n} matrix...\")\n",
    "    A = [[random.random() for _ in range(n)] for _ in range(n)]\n",
    "\n",
    "    print(\"Starting Gaussian elimination...\")\n",
    "    start_time = time.time()\n",
    "    gaussian_elimination(A)\n",
    "    end_time = time.time()\n",
    "\n",
    "    elapsed = end_time - start_time\n",
    "    print(f\"Time taken for {n}x{n} Gaussian elimination: {elapsed:.2f} seconds\")\n",
    "\n",
    "if __name__ == \"__main__\":\n",
    "    main()\n"
   ]
  },
  {
   "cell_type": "markdown",
   "metadata": {},
   "source": [
    "python 2-sem/CS/Homework/gaussian_elimination.py 2000"
   ]
  },
  {
   "cell_type": "markdown",
   "metadata": {},
   "source": [
    "Processes: 458 total, 3 running, 455 sleeping, 3306 threads                                                    11:11\n",
    "Load Avg: 2.57, 2.91, 3.21  CPU usage: 13.77% user, 1.43% sys, 84.79% idle\n",
    "SharedLibs: 222M resident, 51M data, 17M linkedit. MemRegions: 876074 total, 1651M resident, 219M private, 835M shar\n",
    "PhysMem: 7521M used (1414M wired, 3005M compressor), 107M unused.\n",
    "VM: 257T vsize, 4729M framework vsize, 10119944(4) swapins, 10988175(0) swapouts.\n",
    "Networks: packets: 2977552/2802M in, 1417936/815M out. Disks: 17137446/406G read, 8201056/239G written."
   ]
  },
  {
   "cell_type": "markdown",
   "metadata": {},
   "source": [
    "python 2-sem/CS/Homework/gaussian_elimination.py 2000\n",
    "\n",
    "Generating a 2000x2000 matrix...\n",
    "\n",
    "Starting Gaussian elimination...\n",
    "\n",
    "Time taken for 2000x2000 Gaussian elimination: 363.32 seconds (6.05 minutes)\n",
    "\n",
    "This is well below our theoretical prediction of 800 seconds (over 13 minutes)"
   ]
  },
  {
   "cell_type": "markdown",
   "metadata": {},
   "source": [
    "## Python on Google Colab"
   ]
  },
  {
   "cell_type": "markdown",
   "metadata": {},
   "source": [
    "!python3 /content/gaussian_elimination.py 2000\n",
    "\n",
    "Generating a 2000x2000 matrix...\n",
    "\n",
    "Starting Gaussian elimination...\n",
    "\n",
    "Time taken for 2000x2000 Gaussian elimination: 268.07 seconds\n"
   ]
  },
  {
   "cell_type": "markdown",
   "metadata": {},
   "source": [
    "# C++"
   ]
  },
  {
   "cell_type": "markdown",
   "metadata": {},
   "source": [
    "```cpp\n",
    "#include <iostream>\n",
    "#include <vector>\n",
    "#include <cstdlib>\n",
    "#include <ctime>\n",
    "#include <chrono>\n",
    "using namespace std;\n",
    "\n",
    "int main(int argc, char** argv) {\n",
    "    // Default size is 2000 if no argument is provided\n",
    "    int n = 2000;\n",
    "    if(argc > 1) {\n",
    "        n = atoi(argv[1]);\n",
    "    }\n",
    "\n",
    "    cout << \"Generating a \" << n << \"x\" << n << \" matrix of floats ...\" << endl;\n",
    "    srand((unsigned) time(NULL));\n",
    "\n",
    "    vector<vector<double>> A(n, vector<double>(n));\n",
    "    for(int i = 0; i < n; i++) {\n",
    "        for(int j = 0; j < n; j++) {\n",
    "            A[i][j] = static_cast<double>(rand()) / RAND_MAX; \n",
    "        }\n",
    "    }\n",
    "\n",
    "    cout << \"Starting naive Gaussian elimination...\" << endl;\n",
    "    auto start = chrono::high_resolution_clock::now();\n",
    "\n",
    "    // -- GAUSSIAN ELIMINATION (NAIVE, NO PIVOTING) --\n",
    "    for(int i = 0; i < n; i++){\n",
    "        double pivot = A[i][i];\n",
    "        // Scale the pivot row\n",
    "        for(int k = i; k < n; k++){\n",
    "            A[i][k] /= pivot;\n",
    "        }\n",
    "        // Eliminate below pivot\n",
    "        for(int j = i + 1; j < n; j++){\n",
    "            double factor = A[j][i];\n",
    "            for(int k = i; k < n; k++){\n",
    "                A[j][k] -= factor * A[i][k];\n",
    "            }\n",
    "        }\n",
    "    }\n",
    "\n",
    "    auto end = chrono::high_resolution_clock::now();\n",
    "    chrono::duration<double> diff = end - start;\n",
    "\n",
    "    cout << \"Time taken for \" << n << \"x\" << n << \" elimination: \" \n",
    "         << diff.count() << \" seconds\" << endl;\n",
    "\n",
    "    return 0;\n",
    "}\n"
   ]
  },
  {
   "cell_type": "markdown",
   "metadata": {},
   "source": [
    "g++ 2-sem/CS/Homework/gaussian_elimination.cpp -o gauss -O2\n",
    "./gauss 2000\n",
    "\n",
    "Generating a 2000x2000 matrix of floats ...\n",
    "Starting naive Gaussian elimination...\n",
    "Time taken for 2000x2000 elimination: 0.801322 seconds\n",
    "\n",
    "That is 100 times faster than our prediction of 80 seconds"
   ]
  },
  {
   "cell_type": "markdown",
   "metadata": {},
   "source": [
    "## C++ on Google Colab"
   ]
  },
  {
   "cell_type": "markdown",
   "metadata": {},
   "source": [
    "\n",
    "!g++ /content/gaussian_elimination.cpp -o /content/gauss -O2 -std=c++11\n",
    "\n",
    "\n",
    "!/content/gauss 2000\n",
    "\n",
    "Generating a 2000x2000 matrix of floats ...\n",
    "Starting naive Gaussian elimination...\n",
    "Time taken for 2000x2000 elimination: 3.6029 seconds"
   ]
  }
 ],
 "metadata": {
  "kernelspec": {
   "display_name": "myenv",
   "language": "python",
   "name": "python3"
  },
  "language_info": {
   "codemirror_mode": {
    "name": "ipython",
    "version": 3
   },
   "file_extension": ".py",
   "mimetype": "text/x-python",
   "name": "python",
   "nbconvert_exporter": "python",
   "pygments_lexer": "ipython3",
   "version": "3.8.8"
  }
 },
 "nbformat": 4,
 "nbformat_minor": 2
}
