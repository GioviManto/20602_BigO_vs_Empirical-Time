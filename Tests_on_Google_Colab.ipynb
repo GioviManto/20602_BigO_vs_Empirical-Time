{
  "cells": [
    {
      "cell_type": "markdown",
      "metadata": {
        "id": "sXSHtjM7GJfy"
      },
      "source": [
        "# TESTS"
      ]
    },
    {
      "cell_type": "markdown",
      "source": [
        "## Python"
      ],
      "metadata": {
        "id": "Xw8hsn0qb-wm"
      }
    },
    {
      "cell_type": "markdown",
      "source": [
        "### Merge Sort"
      ],
      "metadata": {
        "id": "7jeTTzSacCXP"
      }
    },
    {
      "cell_type": "code",
      "source": [
        "!python3 /content/Merge_sort.py 100000"
      ],
      "metadata": {
        "colab": {
          "base_uri": "https://localhost:8080/"
        },
        "id": "vRpy3itIGob0",
        "outputId": "8d7327e2-79d9-4e0c-d1af-589dd498bf52"
      },
      "execution_count": null,
      "outputs": [
        {
          "output_type": "stream",
          "name": "stdout",
          "text": [
            "Generating array of size 100000 ...\n",
            "Starting merge sort...\n",
            "Time taken to sort 100000 elements: 0.3144 seconds\n"
          ]
        }
      ]
    },
    {
      "cell_type": "code",
      "source": [
        "!python3 /content/Merge_sort.py 1000000"
      ],
      "metadata": {
        "colab": {
          "base_uri": "https://localhost:8080/"
        },
        "id": "lWkO6oAwGM9s",
        "outputId": "761cd458-1d61-4a85-c5e8-f3466ff440b2"
      },
      "execution_count": null,
      "outputs": [
        {
          "output_type": "stream",
          "name": "stdout",
          "text": [
            "Generating array of size 1000000 ...\n",
            "Starting merge sort...\n",
            "Time taken to sort 1000000 elements: 4.4232 seconds\n"
          ]
        }
      ]
    },
    {
      "cell_type": "code",
      "source": [
        "!python3 /content/Merge_sort.py 24400000"
      ],
      "metadata": {
        "colab": {
          "base_uri": "https://localhost:8080/"
        },
        "id": "_W5dAtPyR6WQ",
        "outputId": "336fec57-d956-4336-a92e-4acb6b0e809a"
      },
      "execution_count": null,
      "outputs": [
        {
          "output_type": "stream",
          "name": "stdout",
          "text": [
            "Generating array of size 24400000 ...\n",
            "Starting merge sort...\n",
            "Time taken to sort 24400000 elements: 173.0057 seconds\n"
          ]
        }
      ]
    },
    {
      "cell_type": "code",
      "source": [
        "!python3 /content/Merge_sort.py 15000000"
      ],
      "metadata": {
        "colab": {
          "base_uri": "https://localhost:8080/"
        },
        "id": "DN41rqmcTSiS",
        "outputId": "e178842d-2a25-4ac2-a7e5-a93f7b80f109"
      },
      "execution_count": null,
      "outputs": [
        {
          "output_type": "stream",
          "name": "stdout",
          "text": [
            "Generating array of size 15000000 ...\n",
            "Starting merge sort...\n",
            "Time taken to sort 15000000 elements: 100.2316 seconds\n"
          ]
        }
      ]
    },
    {
      "cell_type": "code",
      "source": [
        "!python3 /content/Merge_sort.py 12500000"
      ],
      "metadata": {
        "colab": {
          "base_uri": "https://localhost:8080/"
        },
        "id": "JMFtrmlYUATU",
        "outputId": "b9c0066c-bd93-42cf-bceb-c02f351711ee"
      },
      "execution_count": null,
      "outputs": [
        {
          "output_type": "stream",
          "name": "stdout",
          "text": [
            "Generating array of size 12500000 ...\n",
            "Starting merge sort...\n",
            "Time taken to sort 12500000 elements: 83.0785 seconds\n"
          ]
        }
      ]
    },
    {
      "cell_type": "code",
      "source": [
        "!python3 /content/Merge_sort.py 11000000"
      ],
      "metadata": {
        "colab": {
          "base_uri": "https://localhost:8080/"
        },
        "id": "UCO9TvOCUzBi",
        "outputId": "ed2b15b6-9960-4f26-acaf-aa1e79bbfe2d"
      },
      "execution_count": null,
      "outputs": [
        {
          "output_type": "stream",
          "name": "stdout",
          "text": [
            "Generating array of size 11000000 ...\n",
            "Starting merge sort...\n",
            "Time taken to sort 11000000 elements: 73.2269 seconds\n"
          ]
        }
      ]
    },
    {
      "cell_type": "code",
      "source": [
        "!python3 /content/Merge_sort.py 10000000"
      ],
      "metadata": {
        "colab": {
          "base_uri": "https://localhost:8080/"
        },
        "id": "mRCqjBY5dwMG",
        "outputId": "d041bfaa-9543-4aed-dd69-c0fa753030c2"
      },
      "execution_count": 18,
      "outputs": [
        {
          "output_type": "stream",
          "name": "stdout",
          "text": [
            "Generating array of size 10000000 ...\n",
            "Starting merge sort...\n",
            "Time taken to sort 10000000 elements: 65.3124 seconds\n"
          ]
        }
      ]
    },
    {
      "cell_type": "markdown",
      "source": [
        "### Gaussian Elimination"
      ],
      "metadata": {
        "id": "j599FbTicFe3"
      }
    },
    {
      "cell_type": "code",
      "source": [
        "!python3 /content/gaussian_elimination.py 2000"
      ],
      "metadata": {
        "colab": {
          "base_uri": "https://localhost:8080/"
        },
        "id": "ucMU9UZ9YlfU",
        "outputId": "07f1a7af-787f-4b9a-b218-7f8cb1008deb"
      },
      "execution_count": 12,
      "outputs": [
        {
          "output_type": "stream",
          "name": "stdout",
          "text": [
            "Generating a 2000x2000 matrix...\n",
            "Starting Gaussian elimination...\n",
            "Time taken for 2000x2000 Gaussian elimination: 268.07 seconds\n"
          ]
        }
      ]
    },
    {
      "cell_type": "markdown",
      "source": [
        "## C++"
      ],
      "metadata": {
        "id": "fBmyAkFacL-m"
      }
    },
    {
      "cell_type": "markdown",
      "source": [
        "### Merge Sort"
      ],
      "metadata": {
        "id": "TvYT1jShckRo"
      }
    },
    {
      "cell_type": "code",
      "source": [
        "\n",
        "!g++ /content/merge_sort.cpp -o /content/merge_sort -O2 -std=c++11\n",
        "\n",
        "\n",
        "!/content/merge_sort 1000000\n"
      ],
      "metadata": {
        "colab": {
          "base_uri": "https://localhost:8080/"
        },
        "id": "8U7hA-0CcphT",
        "outputId": "48b847f6-9137-4775-cb7f-1cf699b55c0f"
      },
      "execution_count": 14,
      "outputs": [
        {
          "output_type": "stream",
          "name": "stdout",
          "text": [
            "Generating array of size 1000000 ...\n",
            "Starting merge sort...\n",
            "Time taken to sort 1000000 elements: 0.225799 seconds\n"
          ]
        }
      ]
    },
    {
      "cell_type": "code",
      "source": [
        "\n",
        "!g++ /content/merge_sort.cpp -o /content/merge_sort -O2 -std=c++11\n",
        "\n",
        "\n",
        "!/content/merge_sort 24400000"
      ],
      "metadata": {
        "colab": {
          "base_uri": "https://localhost:8080/"
        },
        "id": "DKULoskqc883",
        "outputId": "f7549c9b-256d-4e29-bb5e-02fd727df87a"
      },
      "execution_count": 15,
      "outputs": [
        {
          "output_type": "stream",
          "name": "stdout",
          "text": [
            "Generating array of size 24400000 ...\n",
            "Starting merge sort...\n",
            "Time taken to sort 24400000 elements: 6.72649 seconds\n"
          ]
        }
      ]
    },
    {
      "cell_type": "code",
      "source": [
        "\n",
        "!g++ /content/merge_sort.cpp -o /content/merge_sort -O2 -std=c++11\n",
        "\n",
        "\n",
        "!/content/merge_sort 244000000"
      ],
      "metadata": {
        "colab": {
          "base_uri": "https://localhost:8080/"
        },
        "id": "BFxE0HixdGwN",
        "outputId": "3c0e73a8-5bc2-45a2-b850-5a4d989c3bf3"
      },
      "execution_count": 16,
      "outputs": [
        {
          "output_type": "stream",
          "name": "stdout",
          "text": [
            "Generating array of size 244000000 ...\n",
            "Starting merge sort...\n",
            "Time taken to sort 244000000 elements: 70.6277 seconds\n"
          ]
        }
      ]
    },
    {
      "cell_type": "code",
      "source": [
        "\n",
        "!g++ /content/merge_sort.cpp -o /content/merge_sort -O2 -std=c++11\n",
        "\n",
        "\n",
        "!/content/merge_sort 200000000"
      ],
      "metadata": {
        "colab": {
          "base_uri": "https://localhost:8080/"
        },
        "id": "6mbHq8F7dqNS",
        "outputId": "647e9052-59a3-410c-e694-7860a802a0c4"
      },
      "execution_count": 17,
      "outputs": [
        {
          "output_type": "stream",
          "name": "stdout",
          "text": [
            "Generating array of size 200000000 ...\n",
            "Starting merge sort...\n",
            "Time taken to sort 200000000 elements: 57.1181 seconds\n"
          ]
        }
      ]
    },
    {
      "cell_type": "markdown",
      "source": [
        "### Gaussian Elimination"
      ],
      "metadata": {
        "id": "L6F57wsNcduX"
      }
    },
    {
      "cell_type": "code",
      "source": [
        "# Compile the C++ program with C++11 or newer\n",
        "!g++ /content/gaussian_elimination.cpp -o /content/gauss -O2 -std=c++11\n",
        "\n",
        "# Run it with an input of 2000\n",
        "!/content/gauss 2000\n"
      ],
      "metadata": {
        "colab": {
          "base_uri": "https://localhost:8080/"
        },
        "id": "fg-4ljHscIfB",
        "outputId": "64a47e9d-4d85-4966-8ea3-c5db26d4dd38"
      },
      "execution_count": 13,
      "outputs": [
        {
          "output_type": "stream",
          "name": "stdout",
          "text": [
            "Generating a 2000x2000 matrix of floats ...\n",
            "Starting naive Gaussian elimination...\n",
            "Time taken for 2000x2000 elimination: 3.6029 seconds\n"
          ]
        }
      ]
    }
  ],
  "metadata": {
    "kernelspec": {
      "display_name": "myenv",
      "language": "python",
      "name": "python3"
    },
    "language_info": {
      "codemirror_mode": {
        "name": "ipython",
        "version": 3
      },
      "file_extension": ".py",
      "mimetype": "text/x-python",
      "name": "python",
      "nbconvert_exporter": "python",
      "pygments_lexer": "ipython3",
      "version": "3.8.8"
    },
    "colab": {
      "provenance": []
    }
  },
  "nbformat": 4,
  "nbformat_minor": 0
}